{
 "cells": [
  {
   "cell_type": "code",
   "execution_count": 3,
   "id": "deadly-reflection",
   "metadata": {},
   "outputs": [],
   "source": [
    "%matplotlib inline\n",
    "\n",
    "import numpy as np\n",
    "import matplotlib.pyplot as plt"
   ]
  },
  {
   "cell_type": "markdown",
   "id": "950b8518",
   "metadata": {},
   "source": [
    "# Regression problem"
   ]
  },
  {
   "cell_type": "markdown",
   "id": "827f375e",
   "metadata": {},
   "source": [
    "Given dataset\n",
    "\n",
    "$$\n",
    "\\{(x_i, y_i)\\}_{i=0}^{N-1}\n",
    "$$\n",
    "\n",
    "where\n",
    "\n",
    "$$\n",
    "y_i = f(x_i)\n",
    "$$\n",
    "\n",
    "where $f(x)$ is the underlying function (ground truth / target function)."
   ]
  },
  {
   "cell_type": "markdown",
   "id": "901e10f0",
   "metadata": {},
   "source": [
    "Regression problem is to find parameters $\\theta$ from a model function $f_{\\theta}(x)$ that minimize the following least square error:\n",
    "\n",
    "$$\n",
    "\\min_{\\theta} L(\\theta) = \\min_\\theta \\frac{1}{2N}\\sum_{i=0}^{N-1} \\left(f_{\\theta}(x_i) - y_i \\right)^2\n",
    "$$"
   ]
  },
  {
   "cell_type": "markdown",
   "id": "658f619c",
   "metadata": {},
   "source": [
    "$$\n",
    "\\theta^{k+1} = \\theta^k - t \\nabla_{\\theta}L(\\theta^k)\n",
    "$$\n",
    "\n",
    "$$\n",
    "\\nabla_{\\theta}L(\\theta) = \\frac{1}{N} \\sum_{i=0}^{N-1} \\left(f_{\\theta}(x_i) - y_i \\right) \\nabla_{\\theta}f_\\theta(x_i)\n",
    "$$"
   ]
  },
  {
   "cell_type": "markdown",
   "id": "88f8b125",
   "metadata": {},
   "source": [
    "## Linear Regression\n",
    "\n",
    "Model function:\n",
    "\n",
    "$$\n",
    "f_{\\theta}(x) = wx + b\n",
    "$$\n",
    "\n",
    "$$\n",
    "\\theta = [w, b]\n",
    "$$"
   ]
  },
  {
   "cell_type": "code",
   "execution_count": 3,
   "id": "636315aa-8139-4d13-b442-69eb78e3613f",
   "metadata": {},
   "outputs": [],
   "source": [
    "def linear(w: float, b: float, x: np.ndarray):\n",
    "    return w * x + b\n",
    "\n",
    "def grad_w(x):\n",
    "    return x\n",
    "\n",
    "def grad_b(x):\n",
    "    return 1.0"
   ]
  },
  {
   "cell_type": "code",
   "execution_count": 4,
   "id": "c8709d6a-df49-49a6-a165-f9cb9b07eb34",
   "metadata": {},
   "outputs": [],
   "source": [
    "def gd_step(params: tuple[float] | list[float], t: float, x: np.ndarray, y: np.ndarray):\n",
    "    wk, bk = params\n",
    "    w = wk - t * np.mean((linear(wk, bk, x) - y) * grad_w(x))\n",
    "    b = bk - t * np.mean((linear(wk, bk, x) - y) * grad_b(x))\n",
    "    return w, b"
   ]
  },
  {
   "cell_type": "code",
   "execution_count": 43,
   "id": "e88838df-1bed-4b0c-a09d-a654bb35d752",
   "metadata": {},
   "outputs": [],
   "source": [
    "def newton_step(params, t, x, y):\n",
    "    wk, bk = params\n",
    "    gw = np.mean((linear(wk, bk, x) - y) * grad_w(x))\n",
    "    gb = np.mean((linear(wk, bk, x) - y) * grad_b(x))\n",
    "\n",
    "    H = np.zeros((2, 2))\n",
    "    H[0, 0] = np.mean(grad_w(x) * grad_w(x))\n",
    "    H[0, 1] = np.mean(grad_w(x) * grad_b(x))\n",
    "    H[1, 0] = np.mean(grad_b(x) * grad_w(x))\n",
    "    H[1, 1] = np.mean(grad_b(x) * grad_b(x))\n",
    "    \n",
    "    # [gw, gb] shape: (2,)\n",
    "    # np.dot(np.stack([gw, gb]), np.linalg.inv(H))\n",
    "    dwb = np.stack([gw, gb]).dot(np.linalg.inv(H))\n",
    "    \n",
    "    return wk - t * dwb[0], bk - t * dwb[1]"
   ]
  },
  {
   "cell_type": "markdown",
   "id": "technical-safety",
   "metadata": {},
   "source": [
    "# Runge function"
   ]
  },
  {
   "cell_type": "markdown",
   "id": "requested-replica",
   "metadata": {},
   "source": [
    "Consider the function\n",
    "\n",
    "$$\n",
    "R(x) = \\frac{1}{1+x^2}, \\quad\\quad x\\in[-5,5]\n",
    "$$\n",
    "\n",
    "Let's plot the function first:"
   ]
  },
  {
   "cell_type": "code",
   "execution_count": 6,
   "id": "thirty-justice",
   "metadata": {},
   "outputs": [],
   "source": [
    "x = np.linspace(-5, 5, 100)"
   ]
  },
  {
   "cell_type": "code",
   "execution_count": 8,
   "id": "differential-hungarian",
   "metadata": {},
   "outputs": [
    {
     "data": {
      "text/plain": [
       "[<matplotlib.lines.Line2D at 0x7f739f79dea0>]"
      ]
     },
     "execution_count": 8,
     "metadata": {},
     "output_type": "execute_result"
    },
    {
     "data": {
      "image/png": "[encoded data removed]",
      "text/plain": [
       "<Figure size 432x288 with 1 Axes>"
      ]
     },
     "metadata": {
      "needs_background": "light"
     },
     "output_type": "display_data"
    }
   ],
   "source": [
    "def R(x):\n",
    "    return 1.0 / (1.0 + x**2)\n",
    "\n",
    "fig, ax = plt.subplots()\n",
    "ax.set_title(\"Runge function\", fontsize=18)\n",
    "ax.set_xlabel(r\"$x$\", fontsize=14)\n",
    "ax.set_ylabel(r\"$f(x)$\", fontsize=14)\n",
    "ax.plot(x, R(x))"
   ]
  },
  {
   "cell_type": "code",
   "execution_count": 79,
   "id": "2bcefc0d",
   "metadata": {},
   "outputs": [],
   "source": [
    "def fit(x, y, init_params, init_t, eps=1e-4, max_steps=10000):\n",
    "    params, t = init_params, init_t\n",
    "    \n",
    "    for step in range(max_steps):\n",
    "        new_params = newton_step(params, t, x, y)\n",
    "        diff = np.asarray(new_params) - np.asarray(params)\n",
    "        if  np.sqrt(np.sum(diff**2)) < eps:\n",
    "            return new_params, step\n",
    "        else:\n",
    "            params = new_params\n",
    "\n",
    "    return new_params, step"
   ]
  },
  {
   "cell_type": "code",
   "execution_count": 119,
   "id": "8dc62aa5-ec09-4a95-aa09-5aa320bd3de7",
   "metadata": {},
   "outputs": [
    {
     "data": {
      "text/plain": [
       "[<matplotlib.lines.Line2D at 0x7fab1d099c00>]"
      ]
     },
     "execution_count": 119,
     "metadata": {},
     "output_type": "execute_result"
    },
    {
     "data": {
      "image/png": "[encoded data removed]",
      "text/plain": [
       "<Figure size 432x288 with 1 Axes>"
      ]
     },
     "metadata": {
      "needs_background": "light"
     },
     "output_type": "display_data"
    }
   ],
   "source": [
    "x = np.linspace(-1, 1, 100)\n",
    "y = R(x)\n",
    "\n",
    "plt.plot(x, y)"
   ]
  },
  {
   "cell_type": "code",
   "execution_count": 80,
   "id": "2052d90a",
   "metadata": {},
   "outputs": [
    {
     "data": {
      "text/plain": [
       "35"
      ]
     },
     "execution_count": 80,
     "metadata": {},
     "output_type": "execute_result"
    }
   ],
   "source": [
    "(w_m, b_m), num_steps = fit(x, y, [1.0, 1.0], 0.2)\n",
    "num_steps"
   ]
  },
  {
   "cell_type": "code",
   "execution_count": 81,
   "id": "96d977b8-1479-4876-9d2b-c3a93d04ef16",
   "metadata": {},
   "outputs": [
    {
     "data": {
      "text/plain": [
       "(-0.17339318356154257, 0.7116538785874036)"
      ]
     },
     "execution_count": 81,
     "metadata": {},
     "output_type": "execute_result"
    }
   ],
   "source": [
    "w_m, b_m"
   ]
  },
  {
   "cell_type": "code",
   "execution_count": 82,
   "id": "82525280",
   "metadata": {},
   "outputs": [
    {
     "data": {
      "text/plain": [
       "[<matplotlib.lines.Line2D at 0x7fab1d5b93c0>]"
      ]
     },
     "execution_count": 82,
     "metadata": {},
     "output_type": "execute_result"
    },
    {
     "data": {
      "image/png": "[encoded data removed]",
      "text/plain": [
       "<Figure size 432x288 with 1 Axes>"
      ]
     },
     "metadata": {
      "needs_background": "light"
     },
     "output_type": "display_data"
    }
   ],
   "source": [
    "plt.plot(x, linear(w_m, b_m, x))"
   ]
  },
  {
   "cell_type": "markdown",
   "id": "37b37c1d",
   "metadata": {},
   "source": [
    "## General Polynomial fitting with GD"
   ]
  },
  {
   "cell_type": "code",
   "execution_count": null,
   "id": "f9dee931-e39e-4fe3-9bcc-f0d58c6b758a",
   "metadata": {},
   "outputs": [],
   "source": [
    "def linear(params: np.ndarray, x: np.ndarray):\n",
    "    return params[0] * x + params[1]\n",
    "\n",
    "def quadratic(params: np.ndarray, x: np.ndarray):\n",
    "    return params[0] * x**2 + params[1] * x + params[2]\n",
    "\n",
    "# shape x: (N,), grad(x): (N, 2)\n",
    "def grad_linear(x):\n",
    "    grad = np.stack([x, np.ones_like(x)], axis=-1)\n",
    "    return grad\n",
    "        \n",
    "# grad(x): (N, 3)\n",
    "def grad_quad(x):\n",
    "    grad = np.stack([x**2, x, np.ones_like(x)], axis=-1)\n",
    "    return grad\n",
    "\n",
    "def gd_step(params: np.ndarray, t: float, x: np.ndarray, y: np.ndarray):\n",
    "    params -= t * np.mean((quadratic(params, x) - y)[..., None] * grad_quad(x), axis=0)\n",
    "    return params"
   ]
  },
  {
   "cell_type": "markdown",
   "id": "62c43178",
   "metadata": {},
   "source": [
    "### Create general polynomial model and their grads"
   ]
  },
  {
   "cell_type": "code",
   "execution_count": 26,
   "id": "24731848",
   "metadata": {},
   "outputs": [
    {
     "name": "stdout",
     "output_type": "stream",
     "text": [
      "2\n",
      "1\n"
     ]
    }
   ],
   "source": [
    "for i in reversed(range(1, 3)):\n",
    "    print(i)"
   ]
  },
  {
   "cell_type": "code",
   "execution_count": 87,
   "id": "4ea60cb3",
   "metadata": {},
   "outputs": [],
   "source": [
    "# Create a n-th order polynomial function\n",
    "def create_poly_fn(n):\n",
    "    def poly_fn(params, x):\n",
    "        assert params.shape[0] == n + 1, f\"Number of params should equal {n + 1}\"\n",
    "        value, power = 0.0, 1.0\n",
    "        for i in range(n + 1):\n",
    "            value += params[n-i] * power\n",
    "            power *= x\n",
    "        return value\n",
    "\n",
    "    return poly_fn\n",
    "\n",
    "def create_grad_poly_fn(n):\n",
    "    def grad_poly_fn(x):\n",
    "        stack_list = [x**(n-i) for i in range(n)] + [np.ones_like(x)]\n",
    "        grad = np.stack(stack_list, axis=-1)\n",
    "        return grad\n",
    "\n",
    "    return grad_poly_fn\n"
   ]
  },
  {
   "cell_type": "code",
   "execution_count": 88,
   "id": "e7b6fd47",
   "metadata": {},
   "outputs": [],
   "source": [
    "# For example, create 3th order polynomial function and its gradient function\n",
    "n = 3\n",
    "poly_fn = create_poly_fn(n)\n",
    "grad_poly_fn = create_grad_poly_fn(n)\n",
    "\n",
    "def gd_step(params: np.ndarray, t: float, x: np.ndarray, y: np.ndarray):\n",
    "    params -= t * np.mean((poly_fn(params, x) - y)[..., None] * grad_poly_fn(x), axis=0)\n",
    "    return params"
   ]
  },
  {
   "cell_type": "code",
   "execution_count": 89,
   "id": "67e0d31f-bbbb-4c47-a7d0-af1a3d976c54",
   "metadata": {},
   "outputs": [],
   "source": [
    "def fit(x, y, init_params, init_t, eps=1e-4, max_steps=100000):\n",
    "    params, t = init_params, init_t\n",
    "    \n",
    "    for step in range(max_steps):\n",
    "        old_params = params.copy()\n",
    "        params = gd_step(params, t, x, y)\n",
    "        if  np.sqrt(np.sum((params - old_params)**2)) < eps:\n",
    "            return params, step\n",
    "\n",
    "    return params, step"
   ]
  },
  {
   "cell_type": "code",
   "execution_count": 90,
   "id": "6a823efe-2464-4692-9f16-725a8f338720",
   "metadata": {},
   "outputs": [
    {
     "data": {
      "text/plain": [
       "[<matplotlib.lines.Line2D at 0x7f7395dd4d60>]"
      ]
     },
     "execution_count": 90,
     "metadata": {},
     "output_type": "execute_result"
    },
    {
     "data": {
      "image/png": "[encoded data removed]",
      "text/plain": [
       "<Figure size 432x288 with 1 Axes>"
      ]
     },
     "metadata": {
      "needs_background": "light"
     },
     "output_type": "display_data"
    }
   ],
   "source": [
    "x = np.linspace(0, 1, 100)\n",
    "y = R(x)\n",
    "\n",
    "plt.plot(x, y)"
   ]
  },
  {
   "cell_type": "code",
   "execution_count": 93,
   "id": "0ffd3fe1-b78b-4188-bb9e-fbd693e07491",
   "metadata": {},
   "outputs": [
    {
     "data": {
      "text/plain": [
       "(array([-0.66772792,  0.70467926, -0.64499024,  1.03990645]), 2715)"
      ]
     },
     "execution_count": 93,
     "metadata": {},
     "output_type": "execute_result"
    }
   ],
   "source": [
    "params_min, num_steps = fit(x, y, np.array([0.1, 2.0, 1.0, 0.0]), 0.1)\n",
    "params_min, num_steps"
   ]
  },
  {
   "cell_type": "code",
   "execution_count": 94,
   "id": "f7329ce4-b502-4fbc-9409-d4582619f584",
   "metadata": {},
   "outputs": [
    {
     "data": {
      "text/plain": [
       "[<matplotlib.lines.Line2D at 0x7f7395e8a680>]"
      ]
     },
     "execution_count": 94,
     "metadata": {},
     "output_type": "execute_result"
    },
    {
     "data": {
      "image/png": "[encoded data removed]",
      "text/plain": [
       "<Figure size 432x288 with 1 Axes>"
      ]
     },
     "metadata": {
      "needs_background": "light"
     },
     "output_type": "display_data"
    }
   ],
   "source": [
    "plt.plot(x, poly_fn(params_min, x))"
   ]
  }
 ],
 "metadata": {
  "interpreter": {
   "hash": "d4d1e4263499bec80672ea0156c357c1ee493ec2b1c70f0acce89fc37c4a6abe"
  },
  "kernelspec": {
   "display_name": "Python 3 (ipykernel)",
   "language": "python",
   "name": "python3"
  },
  "language_info": {
   "codemirror_mode": {
    "name": "ipython",
    "version": 3
   },
   "file_extension": ".py",
   "mimetype": "text/x-python",
   "name": "python",
   "nbconvert_exporter": "python",
   "pygments_lexer": "ipython3",
   "version": "3.10.4"
  }
 },
 "nbformat": 4,
 "nbformat_minor": 5
}
