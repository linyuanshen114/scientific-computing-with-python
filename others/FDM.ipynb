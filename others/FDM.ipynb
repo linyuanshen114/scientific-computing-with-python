{
 "cells": [
  {
   "cell_type": "code",
   "execution_count": 1,
   "id": "charitable-texture",
   "metadata": {},
   "outputs": [],
   "source": [
    "%matplotlib inline\n",
    "\n",
    "import numpy as np\n",
    "import scipy\n",
    "import matplotlib.pyplot as plt"
   ]
  },
  {
   "cell_type": "markdown",
   "id": "animated-sacrifice",
   "metadata": {},
   "source": [
    "# Laplace equaiton"
   ]
  },
  {
   "cell_type": "markdown",
   "id": "sound-pierce",
   "metadata": {},
   "source": [
    "$$ -\\Delta u = 1 $$\n",
    "\n",
    "$$ u(0, y) = u(1, y) = u(x, 0) = u(x, 1) = 0 $$\n",
    "\n",
    "$$ [0, 1]\\times [0, 1] $$"
   ]
  },
  {
   "cell_type": "markdown",
   "id": "forced-criminal",
   "metadata": {},
   "source": [
    "## Numerical parameters\n",
    "\n",
    "$$ n = 50 $$"
   ]
  },
  {
   "cell_type": "code",
   "execution_count": 2,
   "id": "lonely-symbol",
   "metadata": {},
   "outputs": [],
   "source": [
    "# x shape [51, 51]\n",
    "n = 50\n",
    "h = 1 / n\n",
    "\n",
    "def Laplacian(u):\n",
    "    # x shape [49, 49]\n",
    "    x = np.zeros((51, 51))\n",
    "    x[1:-1, 1:-1] = u\n",
    "    # interior points\n",
    "    lap_u = -(x[:-2, 1:-1] + x[2:, 1:-1] \n",
    "             + x[1:-1,:-2] + x[1:-1, 2:]\n",
    "             - 4 * x[1:-1, 1:-1]) / h ** 2\n",
    "\n",
    "    return lap_u"
   ]
  },
  {
   "cell_type": "code",
   "execution_count": 3,
   "id": "chubby-analysis",
   "metadata": {},
   "outputs": [],
   "source": [
    "from scipy.fftpack import fft, dst\n",
    "\n",
    "def idst_2d(a):\n",
    "    return dst(dst(a, type=1, axis=1, norm='ortho'), type=1, axis=0, norm='ortho')\n",
    "\n",
    "def dst_2d(a):\n",
    "    return dst(dst(a, type=1, axis=1, norm='ortho'), type=1, axis=0, norm='ortho')"
   ]
  },
  {
   "cell_type": "code",
   "execution_count": 4,
   "id": "arranged-partner",
   "metadata": {},
   "outputs": [],
   "source": [
    "def preconditioner(f, h, n):\n",
    "    lambda_ = np.zeros((n-1,n-1))\n",
    "    lambda_[:,:] = 4*((np.sin(0.5*np.arange(1, n)*np.pi/n)**2/h**2)[:,None] \n",
    "                        + (np.sin(0.5*np.arange(1, n)*np.pi/n)**2/h**2))\n",
    "    f_hat = dst_2d(f)\n",
    "    return idst_2d(f_hat/lambda_)"
   ]
  },
  {
   "cell_type": "code",
   "execution_count": 18,
   "id": "incredible-combination",
   "metadata": {},
   "outputs": [],
   "source": [
    "x = np.linspace(0, 1, 49)\n",
    "y = np.linspace(0, 1, 49)\n",
    "z = x[:, None] + y\n",
    "sol = preconditioner(np.ones((49, 49)), h, n)"
   ]
  },
  {
   "cell_type": "code",
   "execution_count": 19,
   "id": "legal-control",
   "metadata": {},
   "outputs": [
    {
     "data": {
      "text/plain": [
       "<matplotlib.contour.QuadContourSet at 0x7ffad6a897c0>"
      ]
     },
     "execution_count": 19,
     "metadata": {},
     "output_type": "execute_result"
    },
    {
     "data": {
      "image/png": "[encoded data removed]",
      "text/plain": [
       "<Figure size 432x288 with 1 Axes>"
      ]
     },
     "metadata": {
      "needs_background": "light"
     },
     "output_type": "display_data"
    }
   ],
   "source": [
    "plt.contourf(sol)"
   ]
  },
  {
   "cell_type": "code",
   "execution_count": 18,
   "id": "compound-recipient",
   "metadata": {
    "jupyter": {
     "source_hidden": true
    }
   },
   "outputs": [],
   "source": [
    "def steepest_descent(lapl, f):\n",
    "    n_iter = 0\n",
    "    u = np.zeros((49, 49))\n",
    "    r = f - lapl(u)\n",
    "    for _ in range(10000):\n",
    "        w = lapl(r)\n",
    "        r_norm = np.sum(r ** 2)\n",
    "        if np.sqrt(r_norm) < 1e-5:\n",
    "            break\n",
    "        alpha = r_norm / (np.sum(r * w) + 1e-8)\n",
    "        u = u + alpha * r\n",
    "        r = r - alpha * w\n",
    "        n_iter += 1\n",
    "    \n",
    "    return u, n_iter"
   ]
  },
  {
   "cell_type": "code",
   "execution_count": 37,
   "id": "located-humor",
   "metadata": {
    "jupyter": {
     "source_hidden": true
    }
   },
   "outputs": [],
   "source": [
    "out, n = steepest_descent(Laplacian, 2.0)"
   ]
  },
  {
   "cell_type": "code",
   "execution_count": 20,
   "id": "handy-minute",
   "metadata": {},
   "outputs": [],
   "source": [
    "def CG(lapl, f):\n",
    "    n_iter = 0\n",
    "    u = np.zeros((49, 49))\n",
    "    r = f - lapl(u)\n",
    "    p = r.copy()\n",
    "    r_old = np.sum(r ** 2)\n",
    "    for _ in range(10000):\n",
    "        w = lapl(p)\n",
    "        if np.sqrt(r_old) < 1e-5:\n",
    "            break\n",
    "        alpha = r_old / (np.sum(p * w) + 1e-8)\n",
    "        u = u + alpha * p\n",
    "        r = r - alpha * w\n",
    "        r_norm = np.sum(r ** 2)\n",
    "        beta = r_norm / r_old\n",
    "        p = r + beta * p\n",
    "        n_iter += 1\n",
    "        r_old = r_norm\n",
    "    \n",
    "    return u, n_iter"
   ]
  },
  {
   "cell_type": "code",
   "execution_count": 21,
   "id": "capable-guard",
   "metadata": {},
   "outputs": [],
   "source": [
    "out_cg, n_cg = CG(Laplacian, 1.0)"
   ]
  },
  {
   "cell_type": "code",
   "execution_count": 22,
   "id": "devoted-consultation",
   "metadata": {},
   "outputs": [
    {
     "data": {
      "text/plain": [
       "83"
      ]
     },
     "execution_count": 22,
     "metadata": {},
     "output_type": "execute_result"
    }
   ],
   "source": [
    "n_cg"
   ]
  },
  {
   "cell_type": "code",
   "execution_count": 23,
   "id": "intermediate-andrews",
   "metadata": {},
   "outputs": [
    {
     "data": {
      "text/plain": [
       "<matplotlib.contour.QuadContourSet at 0x7ffad69c6670>"
      ]
     },
     "execution_count": 23,
     "metadata": {},
     "output_type": "execute_result"
    },
    {
     "data": {
      "image/png": "[encoded data removed]",
      "text/plain": [
       "<Figure size 432x288 with 1 Axes>"
      ]
     },
     "metadata": {
      "needs_background": "light"
     },
     "output_type": "display_data"
    }
   ],
   "source": [
    "plt.contourf(out_cg)"
   ]
  },
  {
   "cell_type": "code",
   "execution_count": 24,
   "id": "active-desperate",
   "metadata": {},
   "outputs": [
    {
     "data": {
      "text/plain": [
       "1.9936527192698742e-20"
      ]
     },
     "execution_count": 24,
     "metadata": {},
     "output_type": "execute_result"
    }
   ],
   "source": [
    "np.mean((out_cg - sol) ** 2)"
   ]
  },
  {
   "cell_type": "code",
   "execution_count": 25,
   "id": "regional-adrian",
   "metadata": {},
   "outputs": [],
   "source": [
    "def PCG(lapl, f):\n",
    "    n_iter = 0\n",
    "    u = np.zeros((49, 49))\n",
    "    r = f - lapl(u)\n",
    "    z = preconditioner(r, h, n)\n",
    "    p = z.copy()\n",
    "    for _ in range(10000):\n",
    "        w = lapl(p)\n",
    "        r_old = np.sum(r * r)\n",
    "        alpha = r_old / (np.sum(p * w))\n",
    "        u = u + alpha * p\n",
    "        r = r - alpha * w\n",
    "        if np.sqrt(np.sum(r * r)) < 1e-4:\n",
    "            break\n",
    "        z = preconditioner(r, h, n)\n",
    "        beta = np.sum(z * r) / r_old\n",
    "        p = z + beta * p\n",
    "        n_iter += 1\n",
    "    \n",
    "    return u, n_iter"
   ]
  },
  {
   "cell_type": "code",
   "execution_count": 26,
   "id": "plain-davis",
   "metadata": {},
   "outputs": [
    {
     "name": "stderr",
     "output_type": "stream",
     "text": [
      "<ipython-input-25-100117e3a9a1>:13: RuntimeWarning: overflow encountered in multiply\n",
      "  if np.sqrt(np.sum(r * r)) < 1e-4:\n",
      "<ipython-input-25-100117e3a9a1>:16: RuntimeWarning: overflow encountered in multiply\n",
      "  beta = np.sum(z * r) / r_old\n",
      "<ipython-input-25-100117e3a9a1>:9: RuntimeWarning: overflow encountered in multiply\n",
      "  r_old = np.sum(r * r)\n"
     ]
    }
   ],
   "source": [
    "out_pcg, n_pcg = PCG(Laplacian, 1.0)"
   ]
  }
 ],
 "metadata": {
  "kernelspec": {
   "display_name": "Python 3",
   "language": "python",
   "name": "python3"
  },
  "language_info": {
   "codemirror_mode": {
    "name": "ipython",
    "version": 3
   },
   "file_extension": ".py",
   "mimetype": "text/x-python",
   "name": "python",
   "nbconvert_exporter": "python",
   "pygments_lexer": "ipython3",
   "version": "3.9.1"
  }
 },
 "nbformat": 4,
 "nbformat_minor": 5
}
