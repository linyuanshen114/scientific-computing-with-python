{
 "cells": [
  {
   "cell_type": "code",
   "execution_count": 4,
   "id": "charitable-texture",
   "metadata": {},
   "outputs": [],
   "source": [
    "%matplotlib inline\n",
    "\n",
    "import numpy as np\n",
    "import matplotlib.pyplot as plt\n",
    "\n",
    "plt.style.use('_mpl-gallery')"
   ]
  },
  {
   "cell_type": "markdown",
   "id": "sound-pierce",
   "metadata": {},
   "source": [
    "# 2D Poisson Equation\n",
    "\n",
    "$$ -\\Delta u(x, y) = -\\partial^2_{xx} u(x, y) - \\partial^2_{yy} u(x, y) = f(x, y) $$\n",
    "\n",
    "Dirichlet Boundary conditions:\n",
    "\n",
    "$$ u(0, y) = u(1, y) = u(x, 0) = u(x, 1) = 0 $$\n",
    "\n",
    "Domain:\n",
    "\n",
    "$$ [0, 1]\\times [0, 1] $$"
   ]
  },
  {
   "cell_type": "markdown",
   "id": "c39726bb-3c50-40d9-a213-84f0353acf40",
   "metadata": {},
   "source": [
    "Assume:\n",
    "\n",
    "$$ f(x, y) = 1$$\n",
    "\n",
    "Without BC:\n",
    "\n",
    "$$ -\\frac{1}{2}(x^2 + y^2) $$"
   ]
  },
  {
   "cell_type": "markdown",
   "id": "41554285",
   "metadata": {},
   "source": [
    "## Discretization\n",
    "\n",
    "In order to construct the numerical scheme, we assume a uniform mesh with grid points:\n",
    "\n",
    "$$\n",
    "x_i = ih, \\quad y_j = jh, \\quad i, j = 0, 1, 2, \\dots, N,\n",
    "$$\n",
    "\n",
    "where mesh size \n",
    "\n",
    "$$h = \\frac{1}{N},$$\n",
    "\n",
    "and\n",
    "\n",
    "$$x_N = y_N = 1.$$\n",
    "\n",
    "The solution can be approximated on each grid as,\n",
    "\n",
    "$$ U_{ij} \\approx u(x_i, y_j).$$"
   ]
  },
  {
   "cell_type": "code",
   "execution_count": 5,
   "id": "71dc5df9",
   "metadata": {},
   "outputs": [
    {
     "data": {
      "text/plain": [
       "(array([0.  , 0.02, 0.04, 0.06, 0.08, 0.1 , 0.12, 0.14, 0.16, 0.18, 0.2 ,\n",
       "        0.22, 0.24, 0.26, 0.28, 0.3 , 0.32, 0.34, 0.36, 0.38, 0.4 , 0.42,\n",
       "        0.44, 0.46, 0.48, 0.5 , 0.52, 0.54, 0.56, 0.58, 0.6 , 0.62, 0.64,\n",
       "        0.66, 0.68, 0.7 , 0.72, 0.74, 0.76, 0.78, 0.8 , 0.82, 0.84, 0.86,\n",
       "        0.88, 0.9 , 0.92, 0.94, 0.96, 0.98, 1.  ]),\n",
       " array([0.  , 0.02, 0.04, 0.06, 0.08, 0.1 , 0.12, 0.14, 0.16, 0.18, 0.2 ,\n",
       "        0.22, 0.24, 0.26, 0.28, 0.3 , 0.32, 0.34, 0.36, 0.38, 0.4 , 0.42,\n",
       "        0.44, 0.46, 0.48, 0.5 , 0.52, 0.54, 0.56, 0.58, 0.6 , 0.62, 0.64,\n",
       "        0.66, 0.68, 0.7 , 0.72, 0.74, 0.76, 0.78, 0.8 , 0.82, 0.84, 0.86,\n",
       "        0.88, 0.9 , 0.92, 0.94, 0.96, 0.98, 1.  ]),\n",
       " 0.02)"
      ]
     },
     "execution_count": 5,
     "metadata": {},
     "output_type": "execute_result"
    }
   ],
   "source": [
    "n = 50\n",
    "\n",
    "h = 1 / n\n",
    "\n",
    "x = np.linspace(0, 1, n + 1)\n",
    "y = np.linspace(0, 1, n + 1)\n",
    "\n",
    "x, y, h\n"
   ]
  },
  {
   "cell_type": "code",
   "execution_count": 6,
   "id": "80627089",
   "metadata": {},
   "outputs": [
    {
     "data": {
      "text/plain": [
       "<matplotlib.collections.PathCollection at 0x7f2ca8707130>"
      ]
     },
     "execution_count": 6,
     "metadata": {},
     "output_type": "execute_result"
    },
    {
     "data": {
      "image/png": "[encoded data removed]",
      "text/plain": [
       "<Figure size 288x288 with 1 Axes>"
      ]
     },
     "metadata": {
      "needs_background": "light"
     },
     "output_type": "display_data"
    }
   ],
   "source": [
    "X, Y = np.meshgrid(x, y, indexing=\"xy\")\n",
    "\n",
    "fig, ax = plt.subplots(figsize=(4, 4))\n",
    "\n",
    "ax.scatter(X, Y, 1.0)\n",
    "\n",
    "# X.shape, Y.shape"
   ]
  },
  {
   "cell_type": "code",
   "execution_count": 7,
   "id": "a8bbb5b0-f377-4660-8445-d39507efff3a",
   "metadata": {},
   "outputs": [
    {
     "data": {
      "text/plain": [
       "(0.06, 0.04)"
      ]
     },
     "execution_count": 7,
     "metadata": {},
     "output_type": "execute_result"
    }
   ],
   "source": [
    "X[2, 3], Y[2, 3]"
   ]
  },
  {
   "cell_type": "markdown",
   "id": "e3c15636",
   "metadata": {},
   "source": [
    "## Numerical scheme using Finite Difference Method (FDM)\n",
    "\n",
    "### Central difference\n",
    "\n",
    "In $x$ direction, we can approximate second order derivative as,\n",
    "\n",
    "$$ \\partial_{xx}^2 u(x_i, y_j) \\approx \\frac{u'(x_{i+1/2}, y_j) - u'(x_{i-1/2}, y_j)}{h},$$\n",
    "\n",
    "and then first order derivate can be approximated by\n",
    "\n",
    "$$ u'(x_{i+1/2}, y_j) \\approx \\frac{U_{i+1, j} - U_{ij}}{h}.$$\n",
    "\n",
    "So the central difference scheme is\n",
    "\n",
    "$$ \\partial_{xx}^2 u(x_i, y_j) \\approx \\frac{U_{i+1, j} - 2U_{ij} + U_{i-1, j}}{h^2}.$$\n",
    "\n",
    "For $y$ direction we have the same scheme\n",
    "\n",
    "$$ \\partial_{yy}^2 u(x_i, y_j) \\approx \\frac{U_{i, j+1} - 2U_{ij} + U_{i, j-1}}{h^2}.$$\n",
    "\n",
    "\n",
    "### FDM scheme (5-points scheme)\n",
    "\n",
    "$$ - \\frac{1}{h^2} (U_{i+1, j} + U_{i, j+1} + U_{i-1, j} + U_{i, j-1} - 4U_{ij}) = f_{ij}, \\quad \\text{for} \\; i, j = 1, 2, \\dots, N-1,$$\n",
    "\n",
    "where $f_{ij} = f(x_i, y_j)$ and with boundary conditions can be written as,\n",
    "\n",
    "$$ \\mathbf{A}\\mathbf{U} = \\mathbf{F}.$$\n"
   ]
  },
  {
   "cell_type": "markdown",
   "id": "68214098-2516-4655-aaae-b74ff9a7fb54",
   "metadata": {},
   "source": [
    "* How to flatten $\\mathbf{U}$?\n",
    "* How to construct $\\mathbf{A}$?\n",
    "\n",
    "Two methods:\n",
    "\n",
    "* Natural order\n",
    "* Even-odd order\n"
   ]
  },
  {
   "cell_type": "code",
   "execution_count": 8,
   "id": "lonely-symbol",
   "metadata": {},
   "outputs": [],
   "source": [
    "# x shape [51, 51]\n",
    "n = 50\n",
    "h = 1 / n\n",
    "\n",
    "\n",
    "def laplacian(u: np.ndarray) -> np.ndarray:\n",
    "    \"\"\"Compute 2D laplace operator.\"\"\"\n",
    "    \n",
    "    # u shape [49, 49]\n",
    "    x = np.zeros((51, 51))\n",
    "    x[1:-1, 1:-1] = u\n",
    "    \n",
    "    # interior points\n",
    "    lap_u = (\n",
    "        -(\n",
    "            x[:-2, 1:-1] # U_{i-1,j}\n",
    "            + x[2:, 1:-1] # U_{i+1,j}\n",
    "            + x[1:-1, :-2] # U_{i,j-1}\n",
    "            + x[1:-1, 2:] # U_{i,j+1}\n",
    "            - 4 * x[1:-1, 1:-1]\n",
    "        )\n",
    "        / h ** 2\n",
    "    )\n",
    "    \n",
    "    # lap_u shape: [49, 49]\n",
    "    return lap_u\n"
   ]
  },
  {
   "cell_type": "code",
   "execution_count": 7,
   "id": "7a11e9aa",
   "metadata": {},
   "outputs": [
    {
     "data": {
      "text/plain": [
       "array([[5000., 2500., 2500., ..., 2500., 2500., 5000.],\n",
       "       [2500.,   -0.,   -0., ...,   -0.,   -0., 2500.],\n",
       "       [2500.,   -0.,   -0., ...,   -0.,   -0., 2500.],\n",
       "       ...,\n",
       "       [2500.,   -0.,   -0., ...,   -0.,   -0., 2500.],\n",
       "       [2500.,   -0.,   -0., ...,   -0.,   -0., 2500.],\n",
       "       [5000., 2500., 2500., ..., 2500., 2500., 5000.]])"
      ]
     },
     "execution_count": 7,
     "metadata": {},
     "output_type": "execute_result"
    }
   ],
   "source": [
    "laplacian(np.ones((49, 49)))\n"
   ]
  },
  {
   "cell_type": "markdown",
   "id": "165b7407",
   "metadata": {},
   "source": [
    "## Solve the linear system by Jacobi iteration\n",
    "\n",
    "$$ - \\frac{1}{h^2} (U_{i+1, j} + U_{i, j+1} + U_{i-1, j} + U_{i, j-1} - 4U_{ij}) = f_{ij}, \\quad \\text{for} \\; i, j = 1, 2, \\dots, N-1,$$\n",
    "\n",
    "The Jacobi iteration of the system can be written as (at $k$-th step),\n",
    "\n",
    "$$ U^{(k+1)}_{ij} = \\frac{1}{4}(U^{(k)}_{i+1, j} + U^{(k)}_{i, j+1} + U^{(k)}_{i-1, j} + U^{(k)}_{i, j-1} + h^2 f_{ij}).$$"
   ]
  },
  {
   "cell_type": "code",
   "execution_count": 9,
   "id": "6822b6cf",
   "metadata": {},
   "outputs": [],
   "source": [
    "def step_jacobi(u: np.ndarray, f: np.ndarray) -> np.ndarray:\n",
    "    \"\"\"Compute one step of Jaccobi iteration.\"\"\"\n",
    "\n",
    "    # u shape [49, 49], f shape [49, 49]\n",
    "    ubc = np.zeros((51, 51))\n",
    "    ubc[1:-1, 1:-1] = u\n",
    "    # interior points\n",
    "    new_u = (\n",
    "        ubc[:-2, 1:-1] # U_{i-1,j}\n",
    "        + ubc[2:, 1:-1] # U_{i+1,j}\n",
    "        + ubc[1:-1, :-2] # U_{i,j-1}\n",
    "        + ubc[1:-1, 2:] # U_{i,j+1}\n",
    "        + f * h ** 2\n",
    "    ) / 4\n",
    "\n",
    "    return new_u\n",
    "\n",
    "\n",
    "def jacobi_solver(f: np.ndarray, u0, eps=1e-8, max_steps=100000):\n",
    "\n",
    "    u = np.ones((n - 1, n - 1))\n",
    "\n",
    "    for step in range(max_steps):\n",
    "        u_old = u.copy()\n",
    "        u = step_jacobi(u, f)\n",
    "\n",
    "        if np.sqrt(np.sum((u - u_old) ** 2) * h ** 2) < eps:\n",
    "            return u, step\n",
    "\n",
    "    print(f\"Ending by max_steps: {max_steps}!\")\n",
    "\n",
    "    return u, step\n"
   ]
  },
  {
   "cell_type": "markdown",
   "id": "1cb0d83c-92e3-4c15-b766-9d6a38b761be",
   "metadata": {},
   "source": [
    "Differente source term\n",
    "\n",
    "$$\n",
    "f(x, y) = \\sin(\\pi x) \\sin(\\pi y)\n",
    "$$"
   ]
  },
  {
   "cell_type": "code",
   "execution_count": 11,
   "id": "19908564-1def-49d0-aceb-568b275c61b5",
   "metadata": {},
   "outputs": [],
   "source": [
    "f = np.sin(np.pi * x[1:-1]) * np.sin(np.pi * y[1:-1])"
   ]
  },
  {
   "cell_type": "code",
   "execution_count": 12,
   "id": "8c96d86f-0eb3-4c51-9e4a-1aaffb255efc",
   "metadata": {},
   "outputs": [
    {
     "data": {
      "text/plain": [
       "(49, 49)"
      ]
     },
     "execution_count": 12,
     "metadata": {},
     "output_type": "execute_result"
    }
   ],
   "source": [
    "F = np.sin(np.pi * X[1:-1, 1:-1]) * np.sin(np.pi * Y[1:-1, 1:-1])\n",
    "# (49,49) * (49,49) -> (49,49)\n",
    "F.shape"
   ]
  },
  {
   "cell_type": "code",
   "execution_count": 13,
   "id": "35bf7ed5-1139-4a35-b9cf-c54a390fb705",
   "metadata": {},
   "outputs": [
    {
     "data": {
      "text/plain": [
       "(49, 49)"
      ]
     },
     "execution_count": 13,
     "metadata": {},
     "output_type": "execute_result"
    }
   ],
   "source": [
    "# (49,1), (49,) -> (49, 49)\n",
    "\n",
    "f = np.sin(np.pi * x[1:-1])[:, None] * np.sin(y[1:-1]) + 2.0\n",
    "f.shape"
   ]
  },
  {
   "cell_type": "code",
   "execution_count": 89,
   "id": "a9b6c0eb-b8da-45f8-9c81-15d8f7d017a0",
   "metadata": {},
   "outputs": [
    {
     "data": {
      "text/plain": [
       "0.0"
      ]
     },
     "execution_count": 89,
     "metadata": {},
     "output_type": "execute_result"
    }
   ],
   "source": [
    "np.max(np.abs(f - F))"
   ]
  },
  {
   "cell_type": "code",
   "execution_count": 73,
   "id": "4732ea9e-6fed-4d8b-8597-9aa658a7b87f",
   "metadata": {},
   "outputs": [
    {
     "data": {
      "text/plain": [
       "(3, 2, 2)"
      ]
     },
     "execution_count": 73,
     "metadata": {},
     "output_type": "execute_result"
    }
   ],
   "source": [
    "a  = np.arange(12).reshape(3,2, 2)\n",
    "a.shape"
   ]
  },
  {
   "cell_type": "code",
   "execution_count": 79,
   "id": "e7bf639f-7af2-4997-a8e3-5064e2f99519",
   "metadata": {},
   "outputs": [
    {
     "data": {
      "text/plain": [
       "(3, 2, 1, 2)"
      ]
     },
     "execution_count": 79,
     "metadata": {},
     "output_type": "execute_result"
    }
   ],
   "source": [
    "a[..., None, :].shape"
   ]
  },
  {
   "cell_type": "code",
   "execution_count": 77,
   "id": "4a229b0f-233a-4bba-901d-3892463f3692",
   "metadata": {},
   "outputs": [
    {
     "data": {
      "text/plain": [
       "True"
      ]
     },
     "execution_count": 77,
     "metadata": {},
     "output_type": "execute_result"
    }
   ],
   "source": [
    "np.newaxis == None"
   ]
  },
  {
   "cell_type": "code",
   "execution_count": 98,
   "id": "ec47e19d-bd25-4b13-83a1-57ea2ed36968",
   "metadata": {},
   "outputs": [
    {
     "data": {
      "text/plain": [
       "<matplotlib.contour.QuadContourSet at 0x7fb069096620>"
      ]
     },
     "execution_count": 98,
     "metadata": {},
     "output_type": "execute_result"
    },
    {
     "data": {
      "image/png": "[encoded data removed]",
      "text/plain": [
       "<Figure size 144x144 with 1 Axes>"
      ]
     },
     "metadata": {
      "needs_background": "light"
     },
     "output_type": "display_data"
    }
   ],
   "source": [
    "fig, ax = plt.subplots()\n",
    "\n",
    "ax.contour(f)"
   ]
  },
  {
   "cell_type": "code",
   "execution_count": 20,
   "id": "eef77a2e",
   "metadata": {},
   "outputs": [
    {
     "name": "stdout",
     "output_type": "stream",
     "text": [
      "CPU times: user 323 ms, sys: 0 ns, total: 323 ms\n",
      "Wall time: 319 ms\n"
     ]
    }
   ],
   "source": [
    "%time u, step = jacobi_solver(1.0, np.zeros((n-1, n-1)))\n"
   ]
  },
  {
   "cell_type": "code",
   "execution_count": 130,
   "id": "4ba01f78",
   "metadata": {},
   "outputs": [
    {
     "data": {
      "text/plain": [
       "(array([[0.0009234 , 0.00164679, 0.00224925, ..., 0.00224925, 0.00164679,\n",
       "         0.0009234 ],\n",
       "        [0.00164679, 0.00301452, 0.00418225, ..., 0.00418225, 0.00301452,\n",
       "         0.00164679],\n",
       "        [0.00224925, 0.00418225, 0.00586595, ..., 0.00586595, 0.00418225,\n",
       "         0.00224925],\n",
       "        ...,\n",
       "        [0.00224925, 0.00418225, 0.00586595, ..., 0.00586595, 0.00418225,\n",
       "         0.00224925],\n",
       "        [0.00164679, 0.00301452, 0.00418225, ..., 0.00418225, 0.00301452,\n",
       "         0.00164679],\n",
       "        [0.0009234 , 0.00164679, 0.00224925, ..., 0.00224925, 0.00164679,\n",
       "         0.0009234 ]]),\n",
       " 6040)"
      ]
     },
     "execution_count": 130,
     "metadata": {},
     "output_type": "execute_result"
    }
   ],
   "source": [
    "u, step\n"
   ]
  },
  {
   "cell_type": "code",
   "execution_count": 114,
   "id": "284382ac-cf00-48bf-8775-5f5a1acd1a9b",
   "metadata": {},
   "outputs": [
    {
     "data": {
      "text/plain": [
       "(0.4, 0.2)"
      ]
     },
     "execution_count": 114,
     "metadata": {},
     "output_type": "execute_result"
    }
   ],
   "source": [
    "# i, j\n",
    "i = 10\n",
    "j = 20\n",
    "X[i,j], Y[i, j]"
   ]
  },
  {
   "cell_type": "code",
   "execution_count": 121,
   "id": "08825f93-16ed-445a-8d6a-225088c956dd",
   "metadata": {},
   "outputs": [
    {
     "data": {
      "text/plain": [
       "<matplotlib.collections.PathCollection at 0x7fb06890cbe0>"
      ]
     },
     "execution_count": 121,
     "metadata": {},
     "output_type": "execute_result"
    },
    {
     "data": {
      "image/png": "[encoded data removed]",
      "text/plain": [
       "<Figure size 552.96x414.72 with 1 Axes>"
      ]
     },
     "metadata": {
      "needs_background": "light"
     },
     "output_type": "display_data"
    }
   ],
   "source": [
    "fig, ax = plt.subplots(figsize=(6.4 * 1.2, 4.8 * 1.2))\n",
    "\n",
    "ubc = np.zeros((51,51))\n",
    "\n",
    "ubc[1:-1, 1:-1] = u\n",
    "\n",
    "ax.scatter(np.ones((51,51)), np.ones((51,51)), ubc)\n",
    "# \n",
    "# X.shape, Y.shape\n",
    "\n",
    "# for i in range(51):\n",
    "#     for j in range(51):\n",
    "#         x = X[i, j]\n",
    "#         y = Y[i, j]\n",
    "#         u = ubc[i, j]\n",
    "#         plot_point(x, y, u)\n",
    "               "
   ]
  },
  {
   "cell_type": "markdown",
   "id": "143920ea",
   "metadata": {},
   "source": [
    "## FFT method to solve the system\n",
    "\n",
    "Assume\n",
    "\n",
    "$$ U_{ij} = \\sum_{m, n=1}^{N-1} \\hat{U}_{mn} \\sin(\\frac{mi\\pi}{N}) \\sin(\\frac{nj\\pi}{N}), \\quad i,j = 1, 2, \\dots, N-1.$$\n",
    "\n",
    "Then plug into the FDM scheme we have\n",
    "\n",
    "$$ U_{i+1,j} - 2U_{ij} + U_{i-1, j} = \\sum_{m, n=1}^{N-1} \\hat{U}_{mn} \\left(\\sin(\\frac{m(i+1)\\pi}{N}) - 2\\sin(\\frac{mi\\pi}{N}) + \\sin(\\frac{m(i-1)\\pi}{N})\\right)\\sin(\\frac{nj\\pi}{N}) = \\sum_{m, n=1}^{N-1} \\hat{U}_{mn} \\left(\\cos(\\frac{m\\pi}{N}) - 1\\right)2\\sin(\\frac{mi\\pi}{N})\\sin(\\frac{nj\\pi}{N}) = -4 \\sum_{m, n=1}^{N-1} \\hat{U}_{mn} \\sin^2(\\frac{m\\pi}{2N})\\sin(\\frac{mi\\pi}{N})\\sin(\\frac{nj\\pi}{N}) $$\n",
    "\n",
    "For $y$ direction, we have similar result:\n",
    "\n",
    "$$ U_{i,j+1} - 2U_{ij} + U_{i, j-1} = -4 \\sum_{m, n=1}^{N-1} \\hat{U}_{mn} \\sin^2(\\frac{n\\pi}{2N})\\sin(\\frac{mi\\pi}{N})\\sin(\\frac{nj\\pi}{N}) $$\n",
    "\n",
    "So\n",
    "\n",
    "$$ - \\frac{1}{h^2} (U_{i+1, j} + U_{i, j+1} + U_{i-1, j} + U_{i, j-1} - 4U_{ij}) = -\\frac{4}{h^2} \\sum_{m, n=1}^{N-1} \\hat{U}_{mn} \\left(\\sin^2(\\frac{m\\pi}{2N})+\\sin^2(\\frac{n\\pi}{2N})\\right)\\sin(\\frac{mi\\pi}{N})\\sin(\\frac{nj\\pi}{N}) = f_{ij} = \\sum_{m, n=1}^{N-1} \\hat{f}_{mn} \\sin(\\frac{mi\\pi}{N})\\sin(\\frac{nj\\pi}{N}), \\quad \\text{for} \\; i, j = 1, 2, \\dots, N-1,$$\n",
    "\n",
    "and then\n",
    "\n",
    "$$ \\hat{U}_{mn} = \\frac{\\hat{f}_{mn}}{\\frac{4}{h^2} (\\sin^2(\\frac{m \\pi } { 2N }) + \\sin^2(\\frac{ n \\pi}  { 2N })}$$\n",
    "\n"
   ]
  },
  {
   "cell_type": "code",
   "execution_count": 14,
   "id": "chubby-analysis",
   "metadata": {},
   "outputs": [],
   "source": [
    "from scipy.fft import fft, dst\n",
    "\n",
    "\n",
    "def idst_2d(a):\n",
    "    return dst(\n",
    "        dst(a, type=1, axis=1, norm=\"ortho\"), type=1, axis=0, norm=\"ortho\"\n",
    "    )\n",
    "\n",
    "\n",
    "def dst_2d(a):\n",
    "    return dst(\n",
    "        dst(a, type=1, axis=1, norm=\"ortho\"), type=1, axis=0, norm=\"ortho\"\n",
    "    )\n",
    "\n"
   ]
  },
  {
   "cell_type": "code",
   "execution_count": 21,
   "id": "69595f29-2450-4e15-8db7-d0cc71ca5a38",
   "metadata": {},
   "outputs": [
    {
     "data": {
      "text/plain": [
       "5.551115123125783e-17"
      ]
     },
     "execution_count": 21,
     "metadata": {},
     "output_type": "execute_result"
    }
   ],
   "source": [
    "np.max(np.abs(idst_2d(dst_2d(u)) - u))"
   ]
  },
  {
   "cell_type": "code",
   "execution_count": 22,
   "id": "arranged-partner",
   "metadata": {},
   "outputs": [],
   "source": [
    "def preconditioner(f, h, n):\n",
    "    lambda_ = np.zeros((n - 1, n - 1))\n",
    "    lambda_[:, :] = 4 * (\n",
    "        (np.sin(0.5 * np.arange(1, n) * np.pi / n) ** 2 / h ** 2)[:, None]\n",
    "        + (np.sin(0.5 * np.arange(1, n) * np.pi / n) ** 2 / h ** 2)\n",
    "    )\n",
    "    f_hat = dst_2d(f)\n",
    "\n",
    "    return idst_2d(f_hat / lambda_)\n"
   ]
  },
  {
   "cell_type": "code",
   "execution_count": 23,
   "id": "incredible-combination",
   "metadata": {},
   "outputs": [
    {
     "name": "stdout",
     "output_type": "stream",
     "text": [
      "CPU times: user 3.43 ms, sys: 718 µs, total: 4.15 ms\n",
      "Wall time: 1.91 ms\n"
     ]
    }
   ],
   "source": [
    "x = np.linspace(0, 1, 49)\n",
    "y = np.linspace(0, 1, 49)\n",
    "z = x[:, None] + y\n",
    "\n",
    "%time sol = preconditioner(np.ones((49, 49)), h, n)\n"
   ]
  },
  {
   "cell_type": "code",
   "execution_count": 24,
   "id": "275e73cc-05a2-4a5d-a52e-be71b21e36e7",
   "metadata": {},
   "outputs": [
    {
     "data": {
      "text/plain": [
       "5.055705777297935e-06"
      ]
     },
     "execution_count": 24,
     "metadata": {},
     "output_type": "execute_result"
    }
   ],
   "source": [
    "np.sqrt(np.sum((sol - u) ** 2) * h ** 2)"
   ]
  },
  {
   "cell_type": "code",
   "execution_count": 25,
   "id": "compound-recipient",
   "metadata": {
    "tags": []
   },
   "outputs": [],
   "source": [
    "def steepest_descent(lapl, f):\n",
    "    n_iter = 0\n",
    "    u = np.zeros((49, 49))\n",
    "    r = f - lapl(u)\n",
    "    for _ in range(10000):\n",
    "        w = lapl(r)\n",
    "        r_norm = np.sum(r ** 2)\n",
    "        if np.sqrt(r_norm) < 1e-5:\n",
    "            break\n",
    "        alpha = r_norm / (np.sum(r * w) + 1e-8)\n",
    "        u = u + alpha * r\n",
    "        r = r - alpha * w\n",
    "        n_iter += 1\n",
    "\n",
    "    return u, n_iter\n"
   ]
  },
  {
   "cell_type": "code",
   "execution_count": 27,
   "id": "located-humor",
   "metadata": {
    "tags": []
   },
   "outputs": [
    {
     "data": {
      "text/plain": [
       "(array([[0.00184671, 0.00329342, 0.00449825, ..., 0.00449825, 0.00329342,\n",
       "         0.00184671],\n",
       "        [0.00329342, 0.00602872, 0.00836403, ..., 0.00836403, 0.00602872,\n",
       "         0.00329342],\n",
       "        [0.00449825, 0.00836403, 0.01173118, ..., 0.01173118, 0.00836403,\n",
       "         0.00449825],\n",
       "        ...,\n",
       "        [0.00449825, 0.00836403, 0.01173118, ..., 0.01173118, 0.00836403,\n",
       "         0.00449825],\n",
       "        [0.00329342, 0.00602872, 0.00836403, ..., 0.00836403, 0.00602872,\n",
       "         0.00329342],\n",
       "        [0.00184671, 0.00329342, 0.00449825, ..., 0.00449825, 0.00329342,\n",
       "         0.00184671]]),\n",
       " 8170)"
      ]
     },
     "execution_count": 27,
     "metadata": {},
     "output_type": "execute_result"
    }
   ],
   "source": [
    "out, n = steepest_descent(laplacian, 2.0)\n",
    "\n",
    "out, n"
   ]
  },
  {
   "cell_type": "code",
   "execution_count": 28,
   "id": "handy-minute",
   "metadata": {},
   "outputs": [],
   "source": [
    "def CG(lapl, f):\n",
    "    n_iter = 0\n",
    "    u = np.zeros((49, 49))\n",
    "    r = f - lapl(u)\n",
    "    p = r.copy()\n",
    "    r_old = np.sum(r ** 2)\n",
    "    for _ in range(10000):\n",
    "        w = lapl(p)\n",
    "        if np.sqrt(r_old) < 1e-5:\n",
    "            break\n",
    "        alpha = r_old / (np.sum(p * w) + 1e-8)\n",
    "        u = u + alpha * p\n",
    "        r = r - alpha * w\n",
    "        r_norm = np.sum(r ** 2)\n",
    "        beta = r_norm / r_old\n",
    "        p = r + beta * p\n",
    "        n_iter += 1\n",
    "        r_old = r_norm\n",
    "\n",
    "    return u, n_iter\n"
   ]
  },
  {
   "cell_type": "code",
   "execution_count": 32,
   "id": "capable-guard",
   "metadata": {},
   "outputs": [
    {
     "name": "stdout",
     "output_type": "stream",
     "text": [
      "CPU times: user 11.7 ms, sys: 237 µs, total: 11.9 ms\n",
      "Wall time: 8.85 ms\n"
     ]
    },
    {
     "data": {
      "text/plain": [
       "(array([[0.00092336, 0.00164671, 0.00224913, ..., 0.00224913, 0.00164671,\n",
       "         0.00092336],\n",
       "        [0.00164671, 0.00301436, 0.00418201, ..., 0.00418201, 0.00301436,\n",
       "         0.00164671],\n",
       "        [0.00224913, 0.00418201, 0.00586559, ..., 0.00586559, 0.00418201,\n",
       "         0.00224913],\n",
       "        ...,\n",
       "        [0.00224913, 0.00418201, 0.00586559, ..., 0.00586559, 0.00418201,\n",
       "         0.00224913],\n",
       "        [0.00164671, 0.00301436, 0.00418201, ..., 0.00418201, 0.00301436,\n",
       "         0.00164671],\n",
       "        [0.00092336, 0.00164671, 0.00224913, ..., 0.00224913, 0.00164671,\n",
       "         0.00092336]]),\n",
       " 83)"
      ]
     },
     "execution_count": 32,
     "metadata": {},
     "output_type": "execute_result"
    }
   ],
   "source": [
    "%time out_cg, n_cg = CG(laplacian, 1.0)\n",
    "\n",
    "out_cg, n_cg"
   ]
  },
  {
   "cell_type": "code",
   "execution_count": 22,
   "id": "devoted-consultation",
   "metadata": {},
   "outputs": [
    {
     "data": {
      "text/plain": [
       "83"
      ]
     },
     "execution_count": 22,
     "metadata": {},
     "output_type": "execute_result"
    }
   ],
   "source": [
    "n_cg\n"
   ]
  },
  {
   "cell_type": "code",
   "execution_count": 33,
   "id": "intermediate-andrews",
   "metadata": {},
   "outputs": [
    {
     "data": {
      "text/plain": [
       "<matplotlib.contour.QuadContourSet at 0x7f2c91c1ed10>"
      ]
     },
     "execution_count": 33,
     "metadata": {},
     "output_type": "execute_result"
    },
    {
     "data": {
      "image/png": "[encoded data removed]",
      "text/plain": [
       "<Figure size 144x144 with 1 Axes>"
      ]
     },
     "metadata": {
      "needs_background": "light"
     },
     "output_type": "display_data"
    }
   ],
   "source": [
    "plt.contourf(out_cg)\n"
   ]
  },
  {
   "cell_type": "code",
   "execution_count": 24,
   "id": "active-desperate",
   "metadata": {},
   "outputs": [
    {
     "data": {
      "text/plain": [
       "1.9936527192698742e-20"
      ]
     },
     "execution_count": 24,
     "metadata": {},
     "output_type": "execute_result"
    }
   ],
   "source": [
    "np.mean((out_cg - sol) ** 2)\n"
   ]
  },
  {
   "cell_type": "code",
   "execution_count": 38,
   "id": "regional-adrian",
   "metadata": {},
   "outputs": [],
   "source": [
    "def PCG(lapl, f):\n",
    "    n_iter = 0\n",
    "    u = np.zeros((49, 49))\n",
    "    r = f - lapl(u)\n",
    "    z = preconditioner(r, h, 50)\n",
    "    p = z.copy()\n",
    "    for _ in range(10000):\n",
    "        w = lapl(p)\n",
    "        r_old = np.sum(r * r)\n",
    "        alpha = r_old / (np.sum(p * w))\n",
    "        u = u + alpha * p\n",
    "        r = r - alpha * w\n",
    "        if np.sqrt(np.sum(r * r)) < 1e-4:\n",
    "            break\n",
    "        z = preconditioner(r, h, n)\n",
    "        beta = np.sum(z * r) / r_old\n",
    "        p = z + beta * p\n",
    "        n_iter += 1\n",
    "\n",
    "    return u, n_iter\n"
   ]
  },
  {
   "cell_type": "code",
   "execution_count": 39,
   "id": "plain-davis",
   "metadata": {},
   "outputs": [
    {
     "ename": "ValueError",
     "evalue": "operands could not be broadcast together with shapes (49,49) (8169,8169) ",
     "output_type": "error",
     "traceback": [
      "\u001b[0;31m---------------------------------------------------------------------------\u001b[0m",
      "\u001b[0;31mValueError\u001b[0m                                Traceback (most recent call last)",
      "Input \u001b[0;32mIn [39]\u001b[0m, in \u001b[0;36m<cell line: 1>\u001b[0;34m()\u001b[0m\n\u001b[0;32m----> 1\u001b[0m out_pcg, n_pcg \u001b[38;5;241m=\u001b[39m \u001b[43mPCG\u001b[49m\u001b[43m(\u001b[49m\u001b[43mlaplacian\u001b[49m\u001b[43m,\u001b[49m\u001b[43m \u001b[49m\u001b[38;5;241;43m1.0\u001b[39;49m\u001b[43m)\u001b[49m\n",
      "Input \u001b[0;32mIn [38]\u001b[0m, in \u001b[0;36mPCG\u001b[0;34m(lapl, f)\u001b[0m\n\u001b[1;32m     13\u001b[0m \u001b[38;5;28;01mif\u001b[39;00m np\u001b[38;5;241m.\u001b[39msqrt(np\u001b[38;5;241m.\u001b[39msum(r \u001b[38;5;241m*\u001b[39m r)) \u001b[38;5;241m<\u001b[39m \u001b[38;5;241m1e-4\u001b[39m:\n\u001b[1;32m     14\u001b[0m     \u001b[38;5;28;01mbreak\u001b[39;00m\n\u001b[0;32m---> 15\u001b[0m z \u001b[38;5;241m=\u001b[39m \u001b[43mpreconditioner\u001b[49m\u001b[43m(\u001b[49m\u001b[43mr\u001b[49m\u001b[43m,\u001b[49m\u001b[43m \u001b[49m\u001b[43mh\u001b[49m\u001b[43m,\u001b[49m\u001b[43m \u001b[49m\u001b[43mn\u001b[49m\u001b[43m)\u001b[49m\n\u001b[1;32m     16\u001b[0m beta \u001b[38;5;241m=\u001b[39m np\u001b[38;5;241m.\u001b[39msum(z \u001b[38;5;241m*\u001b[39m r) \u001b[38;5;241m/\u001b[39m r_old\n\u001b[1;32m     17\u001b[0m p \u001b[38;5;241m=\u001b[39m z \u001b[38;5;241m+\u001b[39m beta \u001b[38;5;241m*\u001b[39m p\n",
      "Input \u001b[0;32mIn [22]\u001b[0m, in \u001b[0;36mpreconditioner\u001b[0;34m(f, h, n)\u001b[0m\n\u001b[1;32m      3\u001b[0m lambda_[:, :] \u001b[38;5;241m=\u001b[39m \u001b[38;5;241m4\u001b[39m \u001b[38;5;241m*\u001b[39m (\n\u001b[1;32m      4\u001b[0m     (np\u001b[38;5;241m.\u001b[39msin(\u001b[38;5;241m0.5\u001b[39m \u001b[38;5;241m*\u001b[39m np\u001b[38;5;241m.\u001b[39marange(\u001b[38;5;241m1\u001b[39m, n) \u001b[38;5;241m*\u001b[39m np\u001b[38;5;241m.\u001b[39mpi \u001b[38;5;241m/\u001b[39m n) \u001b[38;5;241m*\u001b[39m\u001b[38;5;241m*\u001b[39m \u001b[38;5;241m2\u001b[39m \u001b[38;5;241m/\u001b[39m h \u001b[38;5;241m*\u001b[39m\u001b[38;5;241m*\u001b[39m \u001b[38;5;241m2\u001b[39m)[:, \u001b[38;5;28;01mNone\u001b[39;00m]\n\u001b[1;32m      5\u001b[0m     \u001b[38;5;241m+\u001b[39m (np\u001b[38;5;241m.\u001b[39msin(\u001b[38;5;241m0.5\u001b[39m \u001b[38;5;241m*\u001b[39m np\u001b[38;5;241m.\u001b[39marange(\u001b[38;5;241m1\u001b[39m, n) \u001b[38;5;241m*\u001b[39m np\u001b[38;5;241m.\u001b[39mpi \u001b[38;5;241m/\u001b[39m n) \u001b[38;5;241m*\u001b[39m\u001b[38;5;241m*\u001b[39m \u001b[38;5;241m2\u001b[39m \u001b[38;5;241m/\u001b[39m h \u001b[38;5;241m*\u001b[39m\u001b[38;5;241m*\u001b[39m \u001b[38;5;241m2\u001b[39m)\n\u001b[1;32m      6\u001b[0m )\n\u001b[1;32m      7\u001b[0m f_hat \u001b[38;5;241m=\u001b[39m dst_2d(f)\n\u001b[0;32m----> 9\u001b[0m \u001b[38;5;28;01mreturn\u001b[39;00m idst_2d(\u001b[43mf_hat\u001b[49m\u001b[43m \u001b[49m\u001b[38;5;241;43m/\u001b[39;49m\u001b[43m \u001b[49m\u001b[43mlambda_\u001b[49m)\n",
      "\u001b[0;31mValueError\u001b[0m: operands could not be broadcast together with shapes (49,49) (8169,8169) "
     ]
    }
   ],
   "source": [
    "out_pcg, n_pcg = PCG(laplacian, 1.0)\n"
   ]
  }
 ],
 "metadata": {
  "kernelspec": {
   "display_name": "Python 3 (ipykernel)",
   "language": "python",
   "name": "python3"
  },
  "language_info": {
   "codemirror_mode": {
    "name": "ipython",
    "version": 3
   },
   "file_extension": ".py",
   "mimetype": "text/x-python",
   "name": "python",
   "nbconvert_exporter": "python",
   "pygments_lexer": "ipython3",
   "version": "3.10.4"
  }
 },
 "nbformat": 4,
 "nbformat_minor": 5
}
