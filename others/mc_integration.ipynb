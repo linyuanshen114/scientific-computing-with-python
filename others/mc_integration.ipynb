{
 "cells": [
  {
   "cell_type": "code",
   "execution_count": 6,
   "metadata": {},
   "outputs": [],
   "source": [
    "%matplotlib inline\n",
    "\n",
    "import numpy as np\n",
    "import matplotlib.pyplot as plt\n",
    "\n",
    "from typing import Callable"
   ]
  },
  {
   "cell_type": "code",
   "execution_count": 8,
   "metadata": {},
   "outputs": [],
   "source": [
    "# Define some types\n",
    "\n",
    "Func= Callable[..., np.float64]"
   ]
  },
  {
   "cell_type": "markdown",
   "metadata": {},
   "source": [
    "# Monte Carlo Integration"
   ]
  },
  {
   "cell_type": "markdown",
   "metadata": {},
   "source": [
    "$$\n",
    "I(f) = \\int_{\\Omega} f(x) \\, dx, \\quad x\\in\\mathbb{R}^d\n",
    "$$"
   ]
  },
  {
   "cell_type": "markdown",
   "metadata": {},
   "source": [
    "## Numerical Integration\n",
    "\n",
    "Any numerical integration method (including Monte Carlo Method) can be written in the following form:\n",
    "\n",
    "$$\n",
    "I_N(f) \\approx \\sum_{i=1}^N A_i f(x_i)\n",
    "$$"
   ]
  },
  {
   "cell_type": "code",
   "execution_count": 19,
   "metadata": {},
   "outputs": [],
   "source": [
    "# quads = (points, weights)\n",
    "# shape: ((N,d), (N,))\n",
    "def integrate_test(f: Func, quads: tuple[np.ndarray, np.ndarray]):\n",
    "    points, weights = quads\n",
    "    assert points.shape[0] == weights.shape[0]\n",
    "    \n",
    "    num_points = points.shape[0]\n",
    "    integration = 0.0 \n",
    "    for i in range(num_points):\n",
    "        integration += weights[i] * f(points[i])\n",
    "\n",
    "    return integration"
   ]
  },
  {
   "cell_type": "code",
   "execution_count": 79,
   "metadata": {},
   "outputs": [],
   "source": [
    "# quads = (points, weights)\n",
    "# shape: ((N,d), (N,))\n",
    "def integrate(f: Func, quads: tuple[np.ndarray, np.ndarray]):\n",
    "    points, weights = quads\n",
    "    if isinstance(weights, np.ndarray):\n",
    "        assert points.shape[0] == weights.shape[0]\n",
    "    # weights: (N,)\n",
    "    # f(points): (N,)\n",
    "    integration = np.sum(weights * f(points))\n",
    "    return integration"
   ]
  },
  {
   "cell_type": "markdown",
   "metadata": {},
   "source": [
    "### Example 1\n",
    "\n",
    "$$\n",
    "\\int_0^{\\frac{\\pi}{2}} \\sin x\\, dx = 1,\n",
    "$$"
   ]
  },
  {
   "cell_type": "markdown",
   "metadata": {},
   "source": [
    "## Determinastic Methods\n",
    "\n",
    "Trapezoidal formula (复合梯形法)\n",
    "\n",
    "$$\n",
    "I(f) \\approx \\{\\frac{1}{2}f(x_1) + \\sum_{i=2}^{N-1} f(x_i) + \\frac{1}{2}f(x_N)\\} \\times h\n",
    "$$"
   ]
  },
  {
   "cell_type": "code",
   "execution_count": 252,
   "metadata": {},
   "outputs": [],
   "source": [
    "def f1(x: np.ndarray):\n",
    "    return np.sin(x)"
   ]
  },
  {
   "cell_type": "code",
   "execution_count": 40,
   "metadata": {},
   "outputs": [],
   "source": [
    "N = 10000\n",
    "h = 0.5 * np.pi / (N-1)\n",
    "points = np.linspace(0, 0.5 * np.pi, N)\n",
    "weights = np.ones((N)) * h \n",
    "weights[0] = weights[-1] = 0.5 * h"
   ]
  },
  {
   "cell_type": "code",
   "execution_count": 41,
   "metadata": {},
   "outputs": [
    {
     "name": "stdout",
     "output_type": "stream",
     "text": [
      "21.2 ms ± 460 µs per loop (mean ± std. dev. of 7 runs, 100 loops each)\n"
     ]
    }
   ],
   "source": [
    "%timeit I1 = integrate_test(f1, (points, weights))"
   ]
  },
  {
   "cell_type": "code",
   "execution_count": 110,
   "metadata": {},
   "outputs": [],
   "source": [
    "I2 = integrate(f1, (points, weights))"
   ]
  },
  {
   "cell_type": "code",
   "execution_count": 111,
   "metadata": {},
   "outputs": [
    {
     "data": {
      "text/plain": [
       "0.9999785377599664"
      ]
     },
     "execution_count": 111,
     "metadata": {},
     "output_type": "execute_result"
    }
   ],
   "source": [
    "I2"
   ]
  },
  {
   "cell_type": "code",
   "execution_count": 29,
   "metadata": {},
   "outputs": [],
   "source": [
    "errs = []\n",
    "\n",
    "for h in [0.5, 0.25, 0.1, 0.05, 0.02, 0.01]:\n",
    "    N = int(0.5 * np.pi / h) + 1\n",
    "    points = np.linspace(0, 0.5 * np.pi, N)\n",
    "    weights = np.ones((N)) * h \n",
    "    weights[0] = weights[-1] = 0.5 * h\n",
    "    I = integrate_test(f1, (points, weights))\n",
    "    errs.append(np.abs(I - 1.0))"
   ]
  },
  {
   "cell_type": "code",
   "execution_count": 32,
   "metadata": {},
   "outputs": [
    {
     "data": {
      "text/plain": [
       "[<matplotlib.lines.Line2D at 0x7f45436624c0>]"
      ]
     },
     "execution_count": 32,
     "metadata": {},
     "output_type": "execute_result"
    },
    {
     "data": {
      "image/png": "[encoded data removed]",
      "text/plain": [
       "<Figure size 432x288 with 1 Axes>"
      ]
     },
     "metadata": {
      "needs_background": "light"
     },
     "output_type": "display_data"
    }
   ],
   "source": [
    "plt.loglog([0.5, 0.25, 0.1, 0.05, 0.02, 0.01], errs)"
   ]
  },
  {
   "cell_type": "markdown",
   "metadata": {},
   "source": [
    "### Gauss"
   ]
  },
  {
   "cell_type": "code",
   "execution_count": 259,
   "metadata": {},
   "outputs": [],
   "source": [
    "N = 15\n",
    "a, b = 0.0, np.pi/2\n",
    "points, weights = np.polynomial.legendre.leggauss(N)\n",
    "points = 0.5*(points + 1)*(b - a) + a\n",
    "weights = weights * 0.5 * (b - a)"
   ]
  },
  {
   "cell_type": "code",
   "execution_count": 260,
   "metadata": {},
   "outputs": [],
   "source": [
    "Gauss_I = integrate(f1, (points, weights))"
   ]
  },
  {
   "cell_type": "code",
   "execution_count": 261,
   "metadata": {},
   "outputs": [
    {
     "data": {
      "text/plain": [
       "0.9999999999999993"
      ]
     },
     "execution_count": 261,
     "metadata": {},
     "output_type": "execute_result"
    }
   ],
   "source": [
    "Gauss_I"
   ]
  },
  {
   "cell_type": "markdown",
   "metadata": {},
   "source": [
    "### Stochastic Method (Monte Carlo)\n",
    "\n",
    "$$\n",
    "I_N(f) \\approx \\frac{\\pi}{2N}\\sum_{i=1}^N f(X_i), \\quad X_i  \\mathcal{U}[0,\\pi/2]\n",
    "$$"
   ]
  },
  {
   "cell_type": "markdown",
   "metadata": {},
   "source": [
    "$$\n",
    "X_{n+1} = a X_{n} + b (\\text{mod } m)\n",
    "$$"
   ]
  },
  {
   "cell_type": "code",
   "execution_count": 146,
   "metadata": {},
   "outputs": [],
   "source": [
    "# seed X_0\n",
    "rng = np.random.default_rng(0)"
   ]
  },
  {
   "cell_type": "code",
   "execution_count": 164,
   "metadata": {},
   "outputs": [
    {
     "data": {
      "text/plain": [
       "1.0005370787536199"
      ]
     },
     "execution_count": 164,
     "metadata": {},
     "output_type": "execute_result"
    }
   ],
   "source": [
    "# 向量化生成随机数\n",
    "rng.uniform(0.0, np.pi/2)"
   ]
  },
  {
   "cell_type": "code",
   "execution_count": 106,
   "metadata": {},
   "outputs": [],
   "source": [
    "# seed\n",
    "# rng = np.random.default_rng(1)\n",
    "\n",
    "N = 10000\n",
    "# sample points\n",
    "rpoints = rng.uniform(0.0, np.pi/2, N)\n",
    "weights = np.pi/2/ N\n",
    "\n",
    "MC_I = integrate(f1, (rpoints, weights))"
   ]
  },
  {
   "cell_type": "code",
   "execution_count": 118,
   "metadata": {},
   "outputs": [
    {
     "data": {
      "text/plain": [
       "array([   100.        ,   5357.89473684,  10615.78947368,  15873.68421053,\n",
       "        21131.57894737,  26389.47368421,  31647.36842105,  36905.26315789,\n",
       "        42163.15789474,  47421.05263158,  52678.94736842,  57936.84210526,\n",
       "        63194.73684211,  68452.63157895,  73710.52631579,  78968.42105263,\n",
       "        84226.31578947,  89484.21052632,  94742.10526316, 100000.        ])"
      ]
     },
     "execution_count": 118,
     "metadata": {},
     "output_type": "execute_result"
    }
   ],
   "source": [
    "np.linspace(100, 100000, 20)"
   ]
  },
  {
   "cell_type": "code",
   "execution_count": 142,
   "metadata": {},
   "outputs": [],
   "source": [
    "mc_errs = []\n",
    "ns = []\n",
    "for n in np.linspace(100, 100000, 20):\n",
    "    int_n = int(n)\n",
    "    ns.append(int_n)\n",
    "    rpoints = rng.uniform(0.0, np.pi/2, int_n)\n",
    "    weights = np.pi/2/n\n",
    "    MC_I = integrate(f1, (rpoints, weights))\n",
    "    mc_errs.append(np.abs(MC_I - 1.0))\n",
    "    "
   ]
  },
  {
   "cell_type": "code",
   "execution_count": 144,
   "metadata": {},
   "outputs": [
    {
     "data": {
      "text/plain": [
       "[<matplotlib.lines.Line2D at 0x7f4541f86280>,\n",
       " <matplotlib.lines.Line2D at 0x7f4541f8a400>]"
      ]
     },
     "execution_count": 144,
     "metadata": {},
     "output_type": "execute_result"
    },
    {
     "data": {
      "image/png": "[encoded data removed]",
      "text/plain": [
       "<Figure size 432x288 with 1 Axes>"
      ]
     },
     "metadata": {
      "needs_background": "light"
     },
     "output_type": "display_data"
    }
   ],
   "source": [
    "plt.loglog(ns, mc_errs, ns, 1.0 / np.sqrt(np.asarray(ns)))"
   ]
  },
  {
   "cell_type": "markdown",
   "metadata": {},
   "source": [
    "### Example 2\n",
    "\n",
    "$$\n",
    "x, y \\in [-1, 1]\n",
    "$$\n",
    "\n",
    "$$\n",
    "f(x, y) = 1, \\quad \\text{if } x^2 + y^2 < 1\n",
    "$$\n",
    "\n",
    "$$\n",
    "\\int_{[0, 1]^2} f(x, y) \\, dxdy\n",
    "$$"
   ]
  },
  {
   "cell_type": "code",
   "execution_count": 195,
   "metadata": {},
   "outputs": [],
   "source": [
    "# z: (2, N)\n",
    "def f2(z):\n",
    "    x = z[0]\n",
    "    y = z[1]\n",
    "    \n",
    "    return (x**2 + y**2 < 1) * 1.0\n",
    "    "
   ]
  },
  {
   "cell_type": "code",
   "execution_count": 206,
   "metadata": {},
   "outputs": [],
   "source": [
    "x = np.linspace(-1.0, 1.0, 100)\n",
    "y = np.linspace(-1.0, 1.0, 100)\n",
    "z = np.meshgrid(x, y)"
   ]
  },
  {
   "cell_type": "code",
   "execution_count": 203,
   "metadata": {},
   "outputs": [],
   "source": [
    "Z = f2(np.asarray(z))"
   ]
  },
  {
   "cell_type": "code",
   "execution_count": 204,
   "metadata": {},
   "outputs": [
    {
     "data": {
      "text/plain": [
       "(100, 100)"
      ]
     },
     "execution_count": 204,
     "metadata": {},
     "output_type": "execute_result"
    }
   ],
   "source": [
    "Z.shape"
   ]
  },
  {
   "cell_type": "code",
   "execution_count": 251,
   "metadata": {},
   "outputs": [
    {
     "data": {
      "text/plain": [
       "<matplotlib.contour.QuadContourSet at 0x7f45411f1940>"
      ]
     },
     "execution_count": 251,
     "metadata": {},
     "output_type": "execute_result"
    },
    {
     "data": {
      "image/png": "[encoded data removed]",
      "text/plain": [
       "<Figure size 576x576 with 1 Axes>"
      ]
     },
     "metadata": {
      "needs_background": "light"
     },
     "output_type": "display_data"
    }
   ],
   "source": [
    "X, Y = z\n",
    "fig, ax = plt.subplots(figsize=(8,8))\n",
    "ax.contourf(X, Y, Z)"
   ]
  },
  {
   "cell_type": "markdown",
   "metadata": {},
   "source": [
    "### Monte Carlo"
   ]
  },
  {
   "cell_type": "code",
   "execution_count": 213,
   "metadata": {},
   "outputs": [],
   "source": [
    "# seed\n",
    "rng = np.random.default_rng(1)"
   ]
  },
  {
   "cell_type": "code",
   "execution_count": 227,
   "metadata": {},
   "outputs": [],
   "source": [
    "N = 10000000\n",
    "# sample points\n",
    "rpoints = rng.uniform(-1.0, 1.0, (2, N))\n",
    "weights = 4.0 / N\n",
    "\n",
    "MC_I_2d = integrate(f2, (rpoints, weights))"
   ]
  },
  {
   "cell_type": "code",
   "execution_count": 228,
   "metadata": {},
   "outputs": [
    {
     "data": {
      "text/plain": [
       "3.141506799999999"
      ]
     },
     "execution_count": 228,
     "metadata": {},
     "output_type": "execute_result"
    }
   ],
   "source": [
    "MC_I_2d"
   ]
  },
  {
   "cell_type": "markdown",
   "metadata": {},
   "source": [
    "### 中矩形公式"
   ]
  },
  {
   "cell_type": "code",
   "execution_count": 246,
   "metadata": {},
   "outputs": [],
   "source": [
    "nx = ny = 1000\n",
    "h = 2.0 / nx\n",
    "x = np.arange(-1.0 + 0.5*h, 1.0, h)\n",
    "y = np.arange(-1.0 + 0.5*h, 1.0, h)\n",
    "# (2, N=nx*xy)\n",
    "xy = np.asarray(np.meshgrid(x, y))\n",
    "points = xy.reshape(2, -1)\n",
    "weights = h**2"
   ]
  },
  {
   "cell_type": "code",
   "execution_count": 249,
   "metadata": {},
   "outputs": [],
   "source": [
    "I3 = integrate(f2, (points, weights))"
   ]
  },
  {
   "cell_type": "code",
   "execution_count": 250,
   "metadata": {},
   "outputs": [
    {
     "data": {
      "text/plain": [
       "3.141824"
      ]
     },
     "execution_count": 250,
     "metadata": {},
     "output_type": "execute_result"
    }
   ],
   "source": [
    "I3"
   ]
  },
  {
   "cell_type": "markdown",
   "metadata": {},
   "source": [
    "### Example 3\n",
    "\n",
    "$$\n",
    "\\int_{[0, 1]^d} e^{-x} \\, dx\n",
    "$$"
   ]
  }
 ],
 "metadata": {
  "interpreter": {
   "hash": "949777d72b0d2535278d3dc13498b2535136f6dfe0678499012e853ee9abcab1"
  },
  "kernelspec": {
   "display_name": "Python 3 (ipykernel)",
   "language": "python",
   "name": "python3"
  },
  "language_info": {
   "codemirror_mode": {
    "name": "ipython",
    "version": 3
   },
   "file_extension": ".py",
   "mimetype": "text/x-python",
   "name": "python",
   "nbconvert_exporter": "python",
   "pygments_lexer": "ipython3",
   "version": "3.10.4"
  }
 },
 "nbformat": 4,
 "nbformat_minor": 4
}
